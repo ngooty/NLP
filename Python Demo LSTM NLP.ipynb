{
 "cells": [
  {
   "cell_type": "code",
   "execution_count": 1,
   "metadata": {},
   "outputs": [],
   "source": [
    "import nltk"
   ]
  },
  {
   "cell_type": "code",
   "execution_count": 2,
   "metadata": {},
   "outputs": [
    {
     "data": {
      "text/plain": [
       "'/Users/Edureka'"
      ]
     },
     "execution_count": 2,
     "metadata": {},
     "output_type": "execute_result"
    }
   ],
   "source": [
    "import pandas as pd\n",
    "import numpy as np\n",
    "import matplotlib.pyplot as plt\n",
    "%matplotlib inline\n",
    "import os\n",
    "os.getcwd()"
   ]
  },
  {
   "cell_type": "code",
   "execution_count": 3,
   "metadata": {},
   "outputs": [
    {
     "data": {
      "text/plain": [
       "['glass.csv',\n",
       " 'F-ratio table 2005.pdf',\n",
       " '.Rhistory',\n",
       " 'association_rules.xlsx',\n",
       " 'Computer_Data2.csv',\n",
       " 'hour_transaction.csv',\n",
       " 'adult.data',\n",
       " 'u.item',\n",
       " 'nba_logreg.csv',\n",
       " 'LSTM_figure4_v3a.png',\n",
       " 'corona.csv',\n",
       " 'TataGlobal_train.csv',\n",
       " 'Edureka_working_session.R',\n",
       " 'AirPassengers.csv',\n",
       " 'Degrees of freedom.docx',\n",
       " 'BX-Book-Ratings.csv',\n",
       " 'Python StockPrice Demo 1.ipynb',\n",
       " 'Untitled1.ipynb',\n",
       " 'Python KMeans Demo.ipynb',\n",
       " 'creditdata.csv',\n",
       " 'Doctor_Appointment_Noshow.csv',\n",
       " '.DS_Store',\n",
       " 'LSTM_Air_Passengers.ipynb',\n",
       " '.httr-oauth',\n",
       " 'Python Association Rule Mining Demo.ipynb',\n",
       " 'Python Demo Logistic Regression.ipynb',\n",
       " 'Tensorflow demo1.ipynb',\n",
       " 'Python Demo LSTM NLP.ipynb',\n",
       " 'emp_data.csv',\n",
       " 'Python Demo NLP_sentiment_analysis.ipynb',\n",
       " 'Python StockPrice Demo.ipynb',\n",
       " 'divorce.csv',\n",
       " 'recommender system_surprise library-Copy1.ipynb',\n",
       " 'Python',\n",
       " 'Untitled3.ipynb',\n",
       " 'classification_trial.R',\n",
       " 'covid_19_clean_complete.csv',\n",
       " 'Untitled.ipynb',\n",
       " 'LogisticRegression.R',\n",
       " 'Air Passengers.ipynb',\n",
       " 'affairs.csv',\n",
       " 'Module 1-hands-on.txt',\n",
       " 'RNN Bidirectional.gif',\n",
       " 'Plasma.csv',\n",
       " 'decisiontree.jpeg',\n",
       " 'test.csv',\n",
       " 'RNN-LSTM (1).ipynb',\n",
       " 'IND_msk_alt.grd',\n",
       " 'all_transactions.csv',\n",
       " 'winequality-red.csv',\n",
       " 'Employee_Data.csv',\n",
       " 'bike.arff',\n",
       " 'Edureka_Batch_22ndFeb_working_Session.R',\n",
       " 'CNN Feature Map.gif',\n",
       " 'python_intellipaat',\n",
       " 'Groceries.csv',\n",
       " 'BX-Books.csv',\n",
       " 'Untitled2.ipynb',\n",
       " 'Python_Project1.ipynb',\n",
       " 'Python Assignment 1.docx',\n",
       " 'insurance.csv',\n",
       " 'New.csv',\n",
       " 'airline-passengers.csv',\n",
       " 'RNN example.gif',\n",
       " 'recommender system_surprise library-Copy2.ipynb',\n",
       " 'u.data',\n",
       " 'CNN Feature Map.xlsx',\n",
       " 'rnn-2.gif',\n",
       " 'CNN example.gif',\n",
       " 'customer_churn 2.csv',\n",
       " 'Rplot.png',\n",
       " 'LSTM-diagram.png',\n",
       " 'python-regular-expressions-cheat-sheet.pdf',\n",
       " 'Dosage.csv',\n",
       " '~$adult.names',\n",
       " 'Python Recommender System .ipynb',\n",
       " 'Anova.xlsx',\n",
       " 'Python Book Recommender System.ipynb',\n",
       " 'Autism.arff',\n",
       " 'iris.csv',\n",
       " 'adult.names',\n",
       " 'CNN Feature Map with filters.gif',\n",
       " 'Book Recommender Demo.ipynb',\n",
       " 'mtcars2.csv',\n",
       " 'Python Demo Feb 04 Batch.ipynb',\n",
       " 'jup.ipynb',\n",
       " 'Customer_churn.csv',\n",
       " '.gitignore',\n",
       " 'OnlineNewsPopularity',\n",
       " 'titanic.csv',\n",
       " 'cereal.csv',\n",
       " 'Edureka_R_Module_4_5_and_6.R',\n",
       " 'Curriculum.pdf',\n",
       " 'Computer_Data.csv',\n",
       " '.RData',\n",
       " 'activation funcation cheat sheet.png',\n",
       " 'IND_msk_alt.vrt',\n",
       " 'BX-Users.csv',\n",
       " 'Python Recommender System.ipynb',\n",
       " 'Python RNN LSTM IMDB.ipynb',\n",
       " 'agenda.txt',\n",
       " 'PCA_DEMO.R',\n",
       " 'TataGlobal_test.csv',\n",
       " 'Sentiment Analysis.R',\n",
       " 'Edureka_R_Module_1_to_3.R',\n",
       " 'store_data.csv',\n",
       " 'victims.txt',\n",
       " 'Gre_Coll_Adm.csv',\n",
       " 'Edureka_module_7_8.R',\n",
       " 'assignment4.csv',\n",
       " '016_c7_ds_v2.0.csv',\n",
       " 'Association Rule Mining.ipynb',\n",
       " 'Deep_Learning.png',\n",
       " 'train.csv',\n",
       " 'telecomCalls.csv',\n",
       " '.ipynb_checkpoints',\n",
       " 'KMeans Demo.ipynb',\n",
       " 'maxpooling.gif',\n",
       " 'Train_SU63ISt.csv',\n",
       " 'kmeans.pptx',\n",
       " 'Diabetes.csv',\n",
       " 'Dosage_gender.csv',\n",
       " 'Company_Data.csv',\n",
       " 'Python NN Demo.ipynb',\n",
       " 'Python LSTM Demo NLP.ipynb',\n",
       " 'confusion_matrix_example.png',\n",
       " 'Python Demo Classification.ipynb',\n",
       " 'INFY.csv',\n",
       " 'Archive.zip',\n",
       " 'cars.csv',\n",
       " '~$ureka_ML_Module_2.docx',\n",
       " 'adult.test',\n",
       " 'glass_csv.csv',\n",
       " 'Test_0qrQsBZ.csv',\n",
       " 'Python LSTM Stockprice Demo.ipynb',\n",
       " 'Edureka_Module_9_10_11.R',\n",
       " 'TanH.png',\n",
       " 'divorce.xlsx',\n",
       " 'Assignment_Python_Classification_NLP.txt',\n",
       " 'transaction_data.csv',\n",
       " 'recommender_system.R',\n",
       " 'Edureka_recommender_system_code.R',\n",
       " 'fraudData.csv',\n",
       " 'election_data.csv',\n",
       " 'churn.csv',\n",
       " 'decisiontree.png']"
      ]
     },
     "execution_count": 3,
     "metadata": {},
     "output_type": "execute_result"
    }
   ],
   "source": [
    "os.listdir()"
   ]
  },
  {
   "cell_type": "code",
   "execution_count": 4,
   "metadata": {},
   "outputs": [],
   "source": [
    "tweets=pd.read_csv('./Python/demonetization-tweets_data.csv',encoding='ISO-8859-1')"
   ]
  },
  {
   "cell_type": "code",
   "execution_count": 5,
   "metadata": {},
   "outputs": [
    {
     "data": {
      "text/html": [
       "<div>\n",
       "<style scoped>\n",
       "    .dataframe tbody tr th:only-of-type {\n",
       "        vertical-align: middle;\n",
       "    }\n",
       "\n",
       "    .dataframe tbody tr th {\n",
       "        vertical-align: top;\n",
       "    }\n",
       "\n",
       "    .dataframe thead th {\n",
       "        text-align: right;\n",
       "    }\n",
       "</style>\n",
       "<table border=\"1\" class=\"dataframe\">\n",
       "  <thead>\n",
       "    <tr style=\"text-align: right;\">\n",
       "      <th></th>\n",
       "      <th>text</th>\n",
       "      <th>favorited</th>\n",
       "      <th>favoriteCount</th>\n",
       "      <th>replyToSN</th>\n",
       "      <th>created</th>\n",
       "      <th>truncated</th>\n",
       "      <th>replyToSID</th>\n",
       "      <th>statusSource</th>\n",
       "      <th>screenName</th>\n",
       "      <th>retweetCount</th>\n",
       "      <th>isRetweet</th>\n",
       "      <th>retweeted</th>\n",
       "    </tr>\n",
       "  </thead>\n",
       "  <tbody>\n",
       "    <tr>\n",
       "      <th>6600</th>\n",
       "      <td>RT @mkatju: people have got stunts like, Swach...</td>\n",
       "      <td>False</td>\n",
       "      <td>0</td>\n",
       "      <td>NaN</td>\n",
       "      <td>4/14/2017 8:59</td>\n",
       "      <td>False</td>\n",
       "      <td>NaN</td>\n",
       "      <td>&lt;a href=\"http://twitter.com/download/android\" ...</td>\n",
       "      <td>akashgoyalbrt</td>\n",
       "      <td>60</td>\n",
       "      <td>True</td>\n",
       "      <td>False</td>\n",
       "    </tr>\n",
       "    <tr>\n",
       "      <th>2986</th>\n",
       "      <td>RT @tweepul: Even if you're 100% white money &amp;...</td>\n",
       "      <td>False</td>\n",
       "      <td>0</td>\n",
       "      <td>NaN</td>\n",
       "      <td>11/22/2016 16:55</td>\n",
       "      <td>False</td>\n",
       "      <td>NaN</td>\n",
       "      <td>&lt;a href=\"http://twitter.com/download/android\" ...</td>\n",
       "      <td>Sunna5V</td>\n",
       "      <td>48</td>\n",
       "      <td>True</td>\n",
       "      <td>False</td>\n",
       "    </tr>\n",
       "    <tr>\n",
       "      <th>5495</th>\n",
       "      <td>RT @steve_hanke: ATMs across #India running ou...</td>\n",
       "      <td>False</td>\n",
       "      <td>0</td>\n",
       "      <td>NaN</td>\n",
       "      <td>4/16/2017 16:43</td>\n",
       "      <td>False</td>\n",
       "      <td>NaN</td>\n",
       "      <td>&lt;a href=\"http://twitter.com/download/iphone\" r...</td>\n",
       "      <td>missy77450324</td>\n",
       "      <td>197</td>\n",
       "      <td>True</td>\n",
       "      <td>False</td>\n",
       "    </tr>\n",
       "    <tr>\n",
       "      <th>5372</th>\n",
       "      <td>RT @URautelaForever: Dear @evanspiegel \\r\\nInd...</td>\n",
       "      <td>False</td>\n",
       "      <td>0</td>\n",
       "      <td>NaN</td>\n",
       "      <td>4/16/2017 20:37</td>\n",
       "      <td>False</td>\n",
       "      <td>NaN</td>\n",
       "      <td>&lt;a href=\"http://twitter.com/download/android\" ...</td>\n",
       "      <td>somu_1988</td>\n",
       "      <td>1333</td>\n",
       "      <td>True</td>\n",
       "      <td>False</td>\n",
       "    </tr>\n",
       "    <tr>\n",
       "      <th>520</th>\n",
       "      <td>RT @harshkkapoor: #DeMonetization survey resul...</td>\n",
       "      <td>False</td>\n",
       "      <td>0</td>\n",
       "      <td>NaN</td>\n",
       "      <td>11/23/2016 15:08</td>\n",
       "      <td>False</td>\n",
       "      <td>NaN</td>\n",
       "      <td>&lt;a href=\"http://twitter.com/download/android\" ...</td>\n",
       "      <td>bhawana_pal</td>\n",
       "      <td>59</td>\n",
       "      <td>True</td>\n",
       "      <td>False</td>\n",
       "    </tr>\n",
       "  </tbody>\n",
       "</table>\n",
       "</div>"
      ],
      "text/plain": [
       "                                                   text  favorited  \\\n",
       "6600  RT @mkatju: people have got stunts like, Swach...      False   \n",
       "2986  RT @tweepul: Even if you're 100% white money &...      False   \n",
       "5495  RT @steve_hanke: ATMs across #India running ou...      False   \n",
       "5372  RT @URautelaForever: Dear @evanspiegel \\r\\nInd...      False   \n",
       "520   RT @harshkkapoor: #DeMonetization survey resul...      False   \n",
       "\n",
       "      favoriteCount replyToSN           created  truncated  replyToSID  \\\n",
       "6600              0       NaN    4/14/2017 8:59      False         NaN   \n",
       "2986              0       NaN  11/22/2016 16:55      False         NaN   \n",
       "5495              0       NaN   4/16/2017 16:43      False         NaN   \n",
       "5372              0       NaN   4/16/2017 20:37      False         NaN   \n",
       "520               0       NaN  11/23/2016 15:08      False         NaN   \n",
       "\n",
       "                                           statusSource     screenName  \\\n",
       "6600  <a href=\"http://twitter.com/download/android\" ...  akashgoyalbrt   \n",
       "2986  <a href=\"http://twitter.com/download/android\" ...        Sunna5V   \n",
       "5495  <a href=\"http://twitter.com/download/iphone\" r...  missy77450324   \n",
       "5372  <a href=\"http://twitter.com/download/android\" ...      somu_1988   \n",
       "520   <a href=\"http://twitter.com/download/android\" ...    bhawana_pal   \n",
       "\n",
       "      retweetCount  isRetweet  retweeted  \n",
       "6600            60       True      False  \n",
       "2986            48       True      False  \n",
       "5495           197       True      False  \n",
       "5372          1333       True      False  \n",
       "520             59       True      False  "
      ]
     },
     "execution_count": 5,
     "metadata": {},
     "output_type": "execute_result"
    }
   ],
   "source": [
    "tweets.sample(5)"
   ]
  },
  {
   "cell_type": "code",
   "execution_count": 6,
   "metadata": {},
   "outputs": [
    {
     "data": {
      "text/plain": [
       "'RT @satishacharya: Reddy Wedding! @mail_today cartoon #demonetization #ReddyWedding https://t.co/u7gLNrq31F'"
      ]
     },
     "execution_count": 6,
     "metadata": {},
     "output_type": "execute_result"
    }
   ],
   "source": [
    "tweets.text[2]"
   ]
  },
  {
   "cell_type": "code",
   "execution_count": 7,
   "metadata": {},
   "outputs": [],
   "source": [
    "import re,string\n",
    "from nltk.tokenize import word_tokenize\n",
    "from nltk.corpus import stopwords"
   ]
  },
  {
   "cell_type": "code",
   "execution_count": null,
   "metadata": {},
   "outputs": [],
   "source": []
  },
  {
   "cell_type": "code",
   "execution_count": 8,
   "metadata": {},
   "outputs": [],
   "source": [
    "# I am going to the garden today with my cousins and my relatives who are in hyderabad"
   ]
  },
  {
   "cell_type": "code",
   "execution_count": 9,
   "metadata": {},
   "outputs": [],
   "source": [
    "def clean_text(tweets):\n",
    "    tweets=word_tokenize(tweets)\n",
    "    tweets=tweets[4:]\n",
    "    tweets=\" \".join(tweets)\n",
    "    tweets=re.sub('https','',tweets)\n",
    "    tweets=[c for c in tweets if c not in string.punctuation]\n",
    "    tweets=\"\".join(tweets)\n",
    "    tweets=[word for word in tweets.split() if word.lower() not in stopwords.words('english')]\n",
    "    return \" \".join(tweets)"
   ]
  },
  {
   "cell_type": "code",
   "execution_count": 10,
   "metadata": {},
   "outputs": [],
   "source": [
    "tweets['cleaned_text']=tweets['text'].apply(clean_text)"
   ]
  },
  {
   "cell_type": "code",
   "execution_count": 11,
   "metadata": {},
   "outputs": [
    {
     "data": {
      "text/plain": [
       "0    RT @rssurjewala: Critical question: Was PayTM ...\n",
       "1    RT @roshankar: Former FinSec, RBI Dy Governor,...\n",
       "2    RT @satishacharya: Reddy Wedding! @mail_today ...\n",
       "3    RT @gauravcsawant: Rs 40 lakh looted from a ba...\n",
       "4    RT @sumitbhati2002: Many opposition leaders ar...\n",
       "Name: text, dtype: object"
      ]
     },
     "execution_count": 11,
     "metadata": {},
     "output_type": "execute_result"
    }
   ],
   "source": [
    "tweets['text'].head()"
   ]
  },
  {
   "cell_type": "code",
   "execution_count": 12,
   "metadata": {},
   "outputs": [
    {
     "data": {
      "text/plain": [
       "0    Critical question PayTM informed Demonetizatio...\n",
       "1    Former FinSec RBI Dy Governor CBDT Chair Harva...\n",
       "2    Reddy Wedding mailtoday cartoon demonetization...\n",
       "3    Rs 40 lakh looted bank Kishtwar J amp K Third ...\n",
       "4    Many opposition leaders narendramodi Demonetiz...\n",
       "Name: cleaned_text, dtype: object"
      ]
     },
     "execution_count": 12,
     "metadata": {},
     "output_type": "execute_result"
    }
   ],
   "source": [
    "tweets['cleaned_text'].head()"
   ]
  },
  {
   "cell_type": "code",
   "execution_count": 13,
   "metadata": {},
   "outputs": [
    {
     "data": {
      "text/plain": [
       "'28 ed U00A0 U00BD ed U00B8 U0082 protesting demonetization different party leaders'"
      ]
     },
     "execution_count": 13,
     "metadata": {},
     "output_type": "execute_result"
    }
   ],
   "source": [
    "tweets['cleaned_text'][6]"
   ]
  },
  {
   "cell_type": "code",
   "execution_count": 14,
   "metadata": {},
   "outputs": [],
   "source": [
    "import re\n",
    "features=tweets['cleaned_text']\n",
    "processed_features=[]\n",
    "for sentence in range(0,len(features)):\n",
    "    # Remove special characters\n",
    "    processed_feature=re.sub(r'\\W', ' ',str(features[sentence]))\n",
    "    \n",
    "    #Remove for single characters\n",
    "    processed_feature=re.sub(r'\\s+[a-zA-Z]\\s+', ' ', processed_feature)\n",
    "    \n",
    "    #Remove single character at the starting of the sentence\n",
    "    processed_feature=re.sub(r'\\^[a-zA-Z]\\s+', ' ', processed_feature)\n",
    "    \n",
    "    #Remove Mulitple spaces and replace with single space\n",
    "    processed_feature=re.sub(r'\\s+', ' ', processed_feature,flags=re.I)\n",
    "    \n",
    "    #Remove byte character b\n",
    "    processed_feature=re.sub(r'^b\\s+', '', processed_feature)\n",
    "    \n",
    "    #Convert everything to lowercase\n",
    "    processed_feature=processed_feature.lower()\n",
    "    \n",
    "    processed_features.append(processed_feature)\n",
    "                             "
   ]
  },
  {
   "cell_type": "code",
   "execution_count": 15,
   "metadata": {},
   "outputs": [
    {
     "data": {
      "text/plain": [
       "['critical question paytm informed demonetization edict pm clearly fishy requires full disclosure amp',\n",
       " 'former finsec rbi dy governor cbdt chair harvard professor lambaste demonetization aam aadmi listen th',\n",
       " 'reddy wedding mailtoday cartoon demonetization reddywedding tcou7glnrq31f',\n",
       " 'rs 40 lakh looted bank kishtwar amp third incident since demonetization terrorists',\n",
       " 'many opposition leaders narendramodi demonetization respect decision support oppositio',\n",
       " 'narendramodi demonetization respect decision support opposition bcoz party']"
      ]
     },
     "execution_count": 15,
     "metadata": {},
     "output_type": "execute_result"
    }
   ],
   "source": [
    "processed_features[:6]"
   ]
  },
  {
   "cell_type": "code",
   "execution_count": 16,
   "metadata": {},
   "outputs": [],
   "source": [
    "tweets['processed_text']=processed_features"
   ]
  },
  {
   "cell_type": "code",
   "execution_count": 17,
   "metadata": {},
   "outputs": [
    {
     "data": {
      "text/html": [
       "<div>\n",
       "<style scoped>\n",
       "    .dataframe tbody tr th:only-of-type {\n",
       "        vertical-align: middle;\n",
       "    }\n",
       "\n",
       "    .dataframe tbody tr th {\n",
       "        vertical-align: top;\n",
       "    }\n",
       "\n",
       "    .dataframe thead th {\n",
       "        text-align: right;\n",
       "    }\n",
       "</style>\n",
       "<table border=\"1\" class=\"dataframe\">\n",
       "  <thead>\n",
       "    <tr style=\"text-align: right;\">\n",
       "      <th></th>\n",
       "      <th>text</th>\n",
       "      <th>favorited</th>\n",
       "      <th>favoriteCount</th>\n",
       "      <th>replyToSN</th>\n",
       "      <th>created</th>\n",
       "      <th>truncated</th>\n",
       "      <th>replyToSID</th>\n",
       "      <th>statusSource</th>\n",
       "      <th>screenName</th>\n",
       "      <th>retweetCount</th>\n",
       "      <th>isRetweet</th>\n",
       "      <th>retweeted</th>\n",
       "      <th>cleaned_text</th>\n",
       "      <th>processed_text</th>\n",
       "    </tr>\n",
       "  </thead>\n",
       "  <tbody>\n",
       "    <tr>\n",
       "      <th>4030</th>\n",
       "      <td>After almost 6 months can this govt explains t...</td>\n",
       "      <td>False</td>\n",
       "      <td>0</td>\n",
       "      <td>NaN</td>\n",
       "      <td>4/21/2017 14:54</td>\n",
       "      <td>False</td>\n",
       "      <td>NaN</td>\n",
       "      <td>&lt;a href=\"https://mobile.twitter.com\" rel=\"nofo...</td>\n",
       "      <td>Ironmangaurav</td>\n",
       "      <td>0</td>\n",
       "      <td>False</td>\n",
       "      <td>False</td>\n",
       "      <td>govt explains benefits demonetization waiting ...</td>\n",
       "      <td>govt explains benefits demonetization waiting ...</td>\n",
       "    </tr>\n",
       "    <tr>\n",
       "      <th>4435</th>\n",
       "      <td>How India became Bill Gates' guinea pig: A con...</td>\n",
       "      <td>False</td>\n",
       "      <td>0</td>\n",
       "      <td>NaN</td>\n",
       "      <td>4/20/2017 4:25</td>\n",
       "      <td>False</td>\n",
       "      <td>NaN</td>\n",
       "      <td>&lt;a href=\"http://twitter.com\" rel=\"nofollow\"&gt;Tw...</td>\n",
       "      <td>DuncanGalbrait1</td>\n",
       "      <td>0</td>\n",
       "      <td>False</td>\n",
       "      <td>False</td>\n",
       "      <td>Gates guinea pig conspiracy recounted main act...</td>\n",
       "      <td>gates guinea pig conspiracy recounted main act...</td>\n",
       "    </tr>\n",
       "    <tr>\n",
       "      <th>217</th>\n",
       "      <td>RT @DrGPradhan: 8\\r\\n\\r\\nThis tweet of @minima...</td>\n",
       "      <td>False</td>\n",
       "      <td>0</td>\n",
       "      <td>NaN</td>\n",
       "      <td>11/23/2016 17:03</td>\n",
       "      <td>False</td>\n",
       "      <td>NaN</td>\n",
       "      <td>&lt;a href=\"http://twitter.com/download/android\" ...</td>\n",
       "      <td>rajendra_hash</td>\n",
       "      <td>76</td>\n",
       "      <td>True</td>\n",
       "      <td>False</td>\n",
       "      <td>8 tweet minimathur BIBI explains prob demoneti...</td>\n",
       "      <td>8 tweet minimathur bibi explains prob demoneti...</td>\n",
       "    </tr>\n",
       "    <tr>\n",
       "      <th>1371</th>\n",
       "      <td>RT @jenaanindya: 200 MPs from opposition parti...</td>\n",
       "      <td>False</td>\n",
       "      <td>0</td>\n",
       "      <td>NaN</td>\n",
       "      <td>11/23/2016 9:20</td>\n",
       "      <td>False</td>\n",
       "      <td>NaN</td>\n",
       "      <td>&lt;a href=\"http://twitter.com/download/android\" ...</td>\n",
       "      <td>varibar02_dr</td>\n",
       "      <td>2</td>\n",
       "      <td>True</td>\n",
       "      <td>False</td>\n",
       "      <td>200 MPs opposition parties forming chain Parli...</td>\n",
       "      <td>200 mps opposition parties forming chain parli...</td>\n",
       "    </tr>\n",
       "  </tbody>\n",
       "</table>\n",
       "</div>"
      ],
      "text/plain": [
       "                                                   text  favorited  \\\n",
       "4030  After almost 6 months can this govt explains t...      False   \n",
       "4435  How India became Bill Gates' guinea pig: A con...      False   \n",
       "217   RT @DrGPradhan: 8\\r\\n\\r\\nThis tweet of @minima...      False   \n",
       "1371  RT @jenaanindya: 200 MPs from opposition parti...      False   \n",
       "\n",
       "      favoriteCount replyToSN           created  truncated  replyToSID  \\\n",
       "4030              0       NaN   4/21/2017 14:54      False         NaN   \n",
       "4435              0       NaN    4/20/2017 4:25      False         NaN   \n",
       "217               0       NaN  11/23/2016 17:03      False         NaN   \n",
       "1371              0       NaN   11/23/2016 9:20      False         NaN   \n",
       "\n",
       "                                           statusSource       screenName  \\\n",
       "4030  <a href=\"https://mobile.twitter.com\" rel=\"nofo...    Ironmangaurav   \n",
       "4435  <a href=\"http://twitter.com\" rel=\"nofollow\">Tw...  DuncanGalbrait1   \n",
       "217   <a href=\"http://twitter.com/download/android\" ...    rajendra_hash   \n",
       "1371  <a href=\"http://twitter.com/download/android\" ...     varibar02_dr   \n",
       "\n",
       "      retweetCount  isRetweet  retweeted  \\\n",
       "4030             0      False      False   \n",
       "4435             0      False      False   \n",
       "217             76       True      False   \n",
       "1371             2       True      False   \n",
       "\n",
       "                                           cleaned_text  \\\n",
       "4030  govt explains benefits demonetization waiting ...   \n",
       "4435  Gates guinea pig conspiracy recounted main act...   \n",
       "217   8 tweet minimathur BIBI explains prob demoneti...   \n",
       "1371  200 MPs opposition parties forming chain Parli...   \n",
       "\n",
       "                                         processed_text  \n",
       "4030  govt explains benefits demonetization waiting ...  \n",
       "4435  gates guinea pig conspiracy recounted main act...  \n",
       "217   8 tweet minimathur bibi explains prob demoneti...  \n",
       "1371  200 mps opposition parties forming chain parli...  "
      ]
     },
     "execution_count": 17,
     "metadata": {},
     "output_type": "execute_result"
    }
   ],
   "source": [
    "tweets.sample(4)"
   ]
  },
  {
   "cell_type": "code",
   "execution_count": 18,
   "metadata": {},
   "outputs": [],
   "source": [
    "from textblob import TextBlob"
   ]
  },
  {
   "cell_type": "code",
   "execution_count": 19,
   "metadata": {},
   "outputs": [],
   "source": [
    "def generate_polarity(text):\n",
    "    sentiment=TextBlob(text).sentiment\n",
    "    return sentiment"
   ]
  },
  {
   "cell_type": "code",
   "execution_count": 20,
   "metadata": {},
   "outputs": [],
   "source": [
    "sentiment=tweets['processed_text'].apply(generate_polarity)\n",
    "sentiment=sentiment.to_frame()"
   ]
  },
  {
   "cell_type": "code",
   "execution_count": 21,
   "metadata": {},
   "outputs": [
    {
     "data": {
      "text/plain": [
       "Sentiment(polarity=0.15, subjectivity=0.5777777777777778)"
      ]
     },
     "execution_count": 21,
     "metadata": {},
     "output_type": "execute_result"
    }
   ],
   "source": [
    "sentiment.head()\n",
    "sentiment.processed_text[0]"
   ]
  },
  {
   "cell_type": "code",
   "execution_count": 22,
   "metadata": {},
   "outputs": [],
   "source": [
    "sentiment['polarity']=sentiment['processed_text'].apply(lambda x: x[0])"
   ]
  },
  {
   "cell_type": "code",
   "execution_count": 23,
   "metadata": {},
   "outputs": [],
   "source": [
    "sentiment['subjectivity']=sentiment['processed_text'].apply(lambda x:x[1])"
   ]
  },
  {
   "cell_type": "code",
   "execution_count": 24,
   "metadata": {},
   "outputs": [
    {
     "data": {
      "text/html": [
       "<div>\n",
       "<style scoped>\n",
       "    .dataframe tbody tr th:only-of-type {\n",
       "        vertical-align: middle;\n",
       "    }\n",
       "\n",
       "    .dataframe tbody tr th {\n",
       "        vertical-align: top;\n",
       "    }\n",
       "\n",
       "    .dataframe thead th {\n",
       "        text-align: right;\n",
       "    }\n",
       "</style>\n",
       "<table border=\"1\" class=\"dataframe\">\n",
       "  <thead>\n",
       "    <tr style=\"text-align: right;\">\n",
       "      <th></th>\n",
       "      <th>processed_text</th>\n",
       "      <th>polarity</th>\n",
       "      <th>subjectivity</th>\n",
       "    </tr>\n",
       "  </thead>\n",
       "  <tbody>\n",
       "    <tr>\n",
       "      <th>0</th>\n",
       "      <td>(0.15, 0.5777777777777778)</td>\n",
       "      <td>0.15</td>\n",
       "      <td>0.577778</td>\n",
       "    </tr>\n",
       "    <tr>\n",
       "      <th>1</th>\n",
       "      <td>(0.0, 0.0)</td>\n",
       "      <td>0.00</td>\n",
       "      <td>0.000000</td>\n",
       "    </tr>\n",
       "    <tr>\n",
       "      <th>2</th>\n",
       "      <td>(0.0, 0.0)</td>\n",
       "      <td>0.00</td>\n",
       "      <td>0.000000</td>\n",
       "    </tr>\n",
       "    <tr>\n",
       "      <th>3</th>\n",
       "      <td>(0.0, 0.0)</td>\n",
       "      <td>0.00</td>\n",
       "      <td>0.000000</td>\n",
       "    </tr>\n",
       "    <tr>\n",
       "      <th>4</th>\n",
       "      <td>(0.5, 0.5)</td>\n",
       "      <td>0.50</td>\n",
       "      <td>0.500000</td>\n",
       "    </tr>\n",
       "  </tbody>\n",
       "</table>\n",
       "</div>"
      ],
      "text/plain": [
       "               processed_text  polarity  subjectivity\n",
       "0  (0.15, 0.5777777777777778)      0.15      0.577778\n",
       "1                  (0.0, 0.0)      0.00      0.000000\n",
       "2                  (0.0, 0.0)      0.00      0.000000\n",
       "3                  (0.0, 0.0)      0.00      0.000000\n",
       "4                  (0.5, 0.5)      0.50      0.500000"
      ]
     },
     "execution_count": 24,
     "metadata": {},
     "output_type": "execute_result"
    }
   ],
   "source": [
    "sentiment.head()"
   ]
  },
  {
   "cell_type": "code",
   "execution_count": 25,
   "metadata": {},
   "outputs": [],
   "source": [
    "tweets['polarity']=sentiment['polarity']\n",
    "tweets['subjectivity']=sentiment['subjectivity']"
   ]
  },
  {
   "cell_type": "code",
   "execution_count": 26,
   "metadata": {},
   "outputs": [
    {
     "data": {
      "text/html": [
       "<div>\n",
       "<style scoped>\n",
       "    .dataframe tbody tr th:only-of-type {\n",
       "        vertical-align: middle;\n",
       "    }\n",
       "\n",
       "    .dataframe tbody tr th {\n",
       "        vertical-align: top;\n",
       "    }\n",
       "\n",
       "    .dataframe thead th {\n",
       "        text-align: right;\n",
       "    }\n",
       "</style>\n",
       "<table border=\"1\" class=\"dataframe\">\n",
       "  <thead>\n",
       "    <tr style=\"text-align: right;\">\n",
       "      <th></th>\n",
       "      <th>text</th>\n",
       "      <th>favorited</th>\n",
       "      <th>favoriteCount</th>\n",
       "      <th>replyToSN</th>\n",
       "      <th>created</th>\n",
       "      <th>truncated</th>\n",
       "      <th>replyToSID</th>\n",
       "      <th>statusSource</th>\n",
       "      <th>screenName</th>\n",
       "      <th>retweetCount</th>\n",
       "      <th>isRetweet</th>\n",
       "      <th>retweeted</th>\n",
       "      <th>cleaned_text</th>\n",
       "      <th>processed_text</th>\n",
       "      <th>polarity</th>\n",
       "      <th>subjectivity</th>\n",
       "    </tr>\n",
       "  </thead>\n",
       "  <tbody>\n",
       "    <tr>\n",
       "      <th>0</th>\n",
       "      <td>RT @rssurjewala: Critical question: Was PayTM ...</td>\n",
       "      <td>False</td>\n",
       "      <td>0</td>\n",
       "      <td>NaN</td>\n",
       "      <td>11/23/2016 18:40</td>\n",
       "      <td>False</td>\n",
       "      <td>NaN</td>\n",
       "      <td>&lt;a href=\"http://twitter.com/download/android\" ...</td>\n",
       "      <td>HASHTAGFARZIWAL</td>\n",
       "      <td>331</td>\n",
       "      <td>True</td>\n",
       "      <td>False</td>\n",
       "      <td>Critical question PayTM informed Demonetizatio...</td>\n",
       "      <td>critical question paytm informed demonetizatio...</td>\n",
       "      <td>0.15</td>\n",
       "      <td>0.577778</td>\n",
       "    </tr>\n",
       "    <tr>\n",
       "      <th>1</th>\n",
       "      <td>RT @roshankar: Former FinSec, RBI Dy Governor,...</td>\n",
       "      <td>False</td>\n",
       "      <td>0</td>\n",
       "      <td>NaN</td>\n",
       "      <td>11/23/2016 18:40</td>\n",
       "      <td>False</td>\n",
       "      <td>NaN</td>\n",
       "      <td>&lt;a href=\"http://twitter.com/download/android\" ...</td>\n",
       "      <td>rahulja13034944</td>\n",
       "      <td>12</td>\n",
       "      <td>True</td>\n",
       "      <td>False</td>\n",
       "      <td>Former FinSec RBI Dy Governor CBDT Chair Harva...</td>\n",
       "      <td>former finsec rbi dy governor cbdt chair harva...</td>\n",
       "      <td>0.00</td>\n",
       "      <td>0.000000</td>\n",
       "    </tr>\n",
       "    <tr>\n",
       "      <th>2</th>\n",
       "      <td>RT @satishacharya: Reddy Wedding! @mail_today ...</td>\n",
       "      <td>False</td>\n",
       "      <td>0</td>\n",
       "      <td>NaN</td>\n",
       "      <td>11/23/2016 18:39</td>\n",
       "      <td>False</td>\n",
       "      <td>NaN</td>\n",
       "      <td>&lt;a href=\"http://cpimharyana.com\" rel=\"nofollow...</td>\n",
       "      <td>CPIMBadli</td>\n",
       "      <td>120</td>\n",
       "      <td>True</td>\n",
       "      <td>False</td>\n",
       "      <td>Reddy Wedding mailtoday cartoon demonetization...</td>\n",
       "      <td>reddy wedding mailtoday cartoon demonetization...</td>\n",
       "      <td>0.00</td>\n",
       "      <td>0.000000</td>\n",
       "    </tr>\n",
       "    <tr>\n",
       "      <th>3</th>\n",
       "      <td>RT @gauravcsawant: Rs 40 lakh looted from a ba...</td>\n",
       "      <td>False</td>\n",
       "      <td>0</td>\n",
       "      <td>NaN</td>\n",
       "      <td>11/23/2016 18:38</td>\n",
       "      <td>False</td>\n",
       "      <td>NaN</td>\n",
       "      <td>&lt;a href=\"http://twitter.com/download/android\" ...</td>\n",
       "      <td>bhodia1</td>\n",
       "      <td>637</td>\n",
       "      <td>True</td>\n",
       "      <td>False</td>\n",
       "      <td>Rs 40 lakh looted bank Kishtwar J amp K Third ...</td>\n",
       "      <td>rs 40 lakh looted bank kishtwar amp third inci...</td>\n",
       "      <td>0.00</td>\n",
       "      <td>0.000000</td>\n",
       "    </tr>\n",
       "    <tr>\n",
       "      <th>4</th>\n",
       "      <td>RT @sumitbhati2002: Many opposition leaders ar...</td>\n",
       "      <td>False</td>\n",
       "      <td>0</td>\n",
       "      <td>NaN</td>\n",
       "      <td>11/23/2016 18:38</td>\n",
       "      <td>False</td>\n",
       "      <td>NaN</td>\n",
       "      <td>&lt;a href=\"http://twitter.com/download/android\" ...</td>\n",
       "      <td>sumitbhati2002</td>\n",
       "      <td>1</td>\n",
       "      <td>True</td>\n",
       "      <td>False</td>\n",
       "      <td>Many opposition leaders narendramodi Demonetiz...</td>\n",
       "      <td>many opposition leaders narendramodi demonetiz...</td>\n",
       "      <td>0.50</td>\n",
       "      <td>0.500000</td>\n",
       "    </tr>\n",
       "  </tbody>\n",
       "</table>\n",
       "</div>"
      ],
      "text/plain": [
       "                                                text  favorited  \\\n",
       "0  RT @rssurjewala: Critical question: Was PayTM ...      False   \n",
       "1  RT @roshankar: Former FinSec, RBI Dy Governor,...      False   \n",
       "2  RT @satishacharya: Reddy Wedding! @mail_today ...      False   \n",
       "3  RT @gauravcsawant: Rs 40 lakh looted from a ba...      False   \n",
       "4  RT @sumitbhati2002: Many opposition leaders ar...      False   \n",
       "\n",
       "   favoriteCount replyToSN           created  truncated  replyToSID  \\\n",
       "0              0       NaN  11/23/2016 18:40      False         NaN   \n",
       "1              0       NaN  11/23/2016 18:40      False         NaN   \n",
       "2              0       NaN  11/23/2016 18:39      False         NaN   \n",
       "3              0       NaN  11/23/2016 18:38      False         NaN   \n",
       "4              0       NaN  11/23/2016 18:38      False         NaN   \n",
       "\n",
       "                                        statusSource       screenName  \\\n",
       "0  <a href=\"http://twitter.com/download/android\" ...  HASHTAGFARZIWAL   \n",
       "1  <a href=\"http://twitter.com/download/android\" ...  rahulja13034944   \n",
       "2  <a href=\"http://cpimharyana.com\" rel=\"nofollow...        CPIMBadli   \n",
       "3  <a href=\"http://twitter.com/download/android\" ...          bhodia1   \n",
       "4  <a href=\"http://twitter.com/download/android\" ...   sumitbhati2002   \n",
       "\n",
       "   retweetCount  isRetweet  retweeted  \\\n",
       "0           331       True      False   \n",
       "1            12       True      False   \n",
       "2           120       True      False   \n",
       "3           637       True      False   \n",
       "4             1       True      False   \n",
       "\n",
       "                                        cleaned_text  \\\n",
       "0  Critical question PayTM informed Demonetizatio...   \n",
       "1  Former FinSec RBI Dy Governor CBDT Chair Harva...   \n",
       "2  Reddy Wedding mailtoday cartoon demonetization...   \n",
       "3  Rs 40 lakh looted bank Kishtwar J amp K Third ...   \n",
       "4  Many opposition leaders narendramodi Demonetiz...   \n",
       "\n",
       "                                      processed_text  polarity  subjectivity  \n",
       "0  critical question paytm informed demonetizatio...      0.15      0.577778  \n",
       "1  former finsec rbi dy governor cbdt chair harva...      0.00      0.000000  \n",
       "2  reddy wedding mailtoday cartoon demonetization...      0.00      0.000000  \n",
       "3  rs 40 lakh looted bank kishtwar amp third inci...      0.00      0.000000  \n",
       "4  many opposition leaders narendramodi demonetiz...      0.50      0.500000  "
      ]
     },
     "execution_count": 26,
     "metadata": {},
     "output_type": "execute_result"
    }
   ],
   "source": [
    "tweets.head()"
   ]
  },
  {
   "cell_type": "code",
   "execution_count": 27,
   "metadata": {},
   "outputs": [],
   "source": [
    "tweets['polarity_encoded']=['positive' if x>0 else 'negative' if x<0 else 'netural' for x in tweets['polarity']]"
   ]
  },
  {
   "cell_type": "code",
   "execution_count": 28,
   "metadata": {},
   "outputs": [
    {
     "data": {
      "text/plain": [
       "array(['positive', 'netural', 'negative'], dtype=object)"
      ]
     },
     "execution_count": 28,
     "metadata": {},
     "output_type": "execute_result"
    }
   ],
   "source": [
    "tweets['polarity_encoded'].unique()"
   ]
  },
  {
   "cell_type": "code",
   "execution_count": 29,
   "metadata": {},
   "outputs": [
    {
     "data": {
      "text/plain": [
       "netural     3724\n",
       "positive    2645\n",
       "negative    1101\n",
       "Name: polarity_encoded, dtype: int64"
      ]
     },
     "execution_count": 29,
     "metadata": {},
     "output_type": "execute_result"
    }
   ],
   "source": [
    "tweets['polarity_encoded'].value_counts()"
   ]
  },
  {
   "cell_type": "code",
   "execution_count": 30,
   "metadata": {},
   "outputs": [],
   "source": [
    "df=tweets[['processed_text','polarity_encoded']]"
   ]
  },
  {
   "cell_type": "code",
   "execution_count": 31,
   "metadata": {},
   "outputs": [
    {
     "data": {
      "text/html": [
       "<div>\n",
       "<style scoped>\n",
       "    .dataframe tbody tr th:only-of-type {\n",
       "        vertical-align: middle;\n",
       "    }\n",
       "\n",
       "    .dataframe tbody tr th {\n",
       "        vertical-align: top;\n",
       "    }\n",
       "\n",
       "    .dataframe thead th {\n",
       "        text-align: right;\n",
       "    }\n",
       "</style>\n",
       "<table border=\"1\" class=\"dataframe\">\n",
       "  <thead>\n",
       "    <tr style=\"text-align: right;\">\n",
       "      <th></th>\n",
       "      <th>processed_text</th>\n",
       "      <th>polarity_encoded</th>\n",
       "    </tr>\n",
       "  </thead>\n",
       "  <tbody>\n",
       "    <tr>\n",
       "      <th>2443</th>\n",
       "      <td>bypolls decide demonetization modi results byp...</td>\n",
       "      <td>netural</td>\n",
       "    </tr>\n",
       "    <tr>\n",
       "      <th>790</th>\n",
       "      <td>rs 40 lakh looted bank kishtwar amp third inci...</td>\n",
       "      <td>netural</td>\n",
       "    </tr>\n",
       "    <tr>\n",
       "      <th>4520</th>\n",
       "      <td>demonetization scam adaniambani scam 11k arab ...</td>\n",
       "      <td>positive</td>\n",
       "    </tr>\n",
       "    <tr>\n",
       "      <th>6943</th>\n",
       "      <td>bypolls result today prove modi wave whether d...</td>\n",
       "      <td>positive</td>\n",
       "    </tr>\n",
       "    <tr>\n",
       "      <th>746</th>\n",
       "      <td>huge support pm narendramodi demonetization mo...</td>\n",
       "      <td>positive</td>\n",
       "    </tr>\n",
       "    <tr>\n",
       "      <th>6172</th>\n",
       "      <td>dear evanspiegel india rich pm narendra modi i...</td>\n",
       "      <td>positive</td>\n",
       "    </tr>\n",
       "  </tbody>\n",
       "</table>\n",
       "</div>"
      ],
      "text/plain": [
       "                                         processed_text polarity_encoded\n",
       "2443  bypolls decide demonetization modi results byp...          netural\n",
       "790   rs 40 lakh looted bank kishtwar amp third inci...          netural\n",
       "4520  demonetization scam adaniambani scam 11k arab ...         positive\n",
       "6943  bypolls result today prove modi wave whether d...         positive\n",
       "746   huge support pm narendramodi demonetization mo...         positive\n",
       "6172  dear evanspiegel india rich pm narendra modi i...         positive"
      ]
     },
     "execution_count": 31,
     "metadata": {},
     "output_type": "execute_result"
    }
   ],
   "source": [
    "df.sample(6)"
   ]
  },
  {
   "cell_type": "code",
   "execution_count": 32,
   "metadata": {},
   "outputs": [
    {
     "data": {
      "text/plain": [
       "(7470, 2)"
      ]
     },
     "execution_count": 32,
     "metadata": {},
     "output_type": "execute_result"
    }
   ],
   "source": [
    "df.shape"
   ]
  },
  {
   "cell_type": "code",
   "execution_count": 33,
   "metadata": {},
   "outputs": [],
   "source": [
    "from nltk.tokenize import TweetTokenizer\n",
    "from sklearn.feature_extraction.text import CountVectorizer,TfidfVectorizer,TfidfTransformer\n",
    "from sklearn.model_selection import train_test_split"
   ]
  },
  {
   "cell_type": "code",
   "execution_count": 34,
   "metadata": {},
   "outputs": [],
   "source": [
    "def tokenize(text):\n",
    "    tk=TweetTokenizer()\n",
    "    return tk.tokenize(text)\n",
    "\n",
    "vectorizer=CountVectorizer(analyzer='word',tokenizer=tokenize,lowercase=True,ngram_range=(1,1))"
   ]
  },
  {
   "cell_type": "code",
   "execution_count": 35,
   "metadata": {},
   "outputs": [],
   "source": [
    "features=df['processed_text'].values\n",
    "target=df['polarity_encoded'].values"
   ]
  },
  {
   "cell_type": "code",
   "execution_count": 36,
   "metadata": {},
   "outputs": [
    {
     "data": {
      "text/plain": [
       "array(['positive', 'netural', 'netural', ..., 'positive', 'negative',\n",
       "       'netural'], dtype=object)"
      ]
     },
     "execution_count": 36,
     "metadata": {},
     "output_type": "execute_result"
    }
   ],
   "source": [
    "target"
   ]
  },
  {
   "cell_type": "code",
   "execution_count": 37,
   "metadata": {},
   "outputs": [],
   "source": [
    "f=vectorizer.fit_transform(features)\n",
    "f=f.toarray()"
   ]
  },
  {
   "cell_type": "code",
   "execution_count": 38,
   "metadata": {},
   "outputs": [],
   "source": [
    "from sklearn.preprocessing import LabelEncoder\n",
    "le=LabelEncoder()\n",
    "t=le.fit_transform(target)"
   ]
  },
  {
   "cell_type": "code",
   "execution_count": 39,
   "metadata": {},
   "outputs": [],
   "source": [
    "xtrain,xtest,ytrain,ytest=train_test_split(f,t,test_size=0.3,random_state=980)"
   ]
  },
  {
   "cell_type": "code",
   "execution_count": 40,
   "metadata": {},
   "outputs": [
    {
     "data": {
      "text/plain": [
       "((5229, 8919), (5229,))"
      ]
     },
     "execution_count": 40,
     "metadata": {},
     "output_type": "execute_result"
    }
   ],
   "source": [
    "xtrain.shape,ytrain.shape"
   ]
  },
  {
   "cell_type": "code",
   "execution_count": 41,
   "metadata": {},
   "outputs": [],
   "source": [
    "xtrain=xtrain.reshape(xtrain.shape[0],xtrain.shape[1],1)\n",
    "xtest=xtest.reshape(xtest.shape[0],xtest.shape[1],1)"
   ]
  },
  {
   "cell_type": "code",
   "execution_count": 42,
   "metadata": {},
   "outputs": [
    {
     "data": {
      "text/plain": [
       "((5229, 8919, 1), (5229,), (2241, 8919, 1))"
      ]
     },
     "execution_count": 42,
     "metadata": {},
     "output_type": "execute_result"
    }
   ],
   "source": [
    "xtrain.shape,ytrain.shape,xtest.shape"
   ]
  },
  {
   "cell_type": "code",
   "execution_count": 46,
   "metadata": {},
   "outputs": [],
   "source": [
    "import keras\n",
    "from keras.layers import Dense, LSTM,Dropout\n",
    "from keras.models import Sequential"
   ]
  },
  {
   "cell_type": "code",
   "execution_count": 47,
   "metadata": {},
   "outputs": [],
   "source": [
    "model=Sequential()\n",
    "model.add(LSTM(1,input_shape=(8919,1)))\n",
    "model.add(Dropout(0.3))\n",
    "model.add(Dense(1,activation='sigmoid'))"
   ]
  },
  {
   "cell_type": "code",
   "execution_count": 51,
   "metadata": {},
   "outputs": [],
   "source": [
    "model.compile(optimizer='adam',loss='binary_crossentropy',metrics=(['accuracy']))"
   ]
  },
  {
   "cell_type": "code",
   "execution_count": 52,
   "metadata": {},
   "outputs": [
    {
     "name": "stdout",
     "output_type": "stream",
     "text": [
      "Train on 5229 samples, validate on 2241 samples\n",
      "Epoch 1/3\n",
      "5229/5229 [==============================] - 1462s 280ms/step - loss: 0.5571 - accuracy: 0.4926 - val_loss: 0.3842 - val_accuracy: 0.5056\n",
      "Epoch 2/3\n",
      "5229/5229 [==============================] - 1268s 243ms/step - loss: 0.1098 - accuracy: 0.4955 - val_loss: -0.1548 - val_accuracy: 0.5056\n",
      "Epoch 3/3\n",
      "5229/5229 [==============================] - 2077s 397ms/step - loss: -0.2288 - accuracy: 0.4955 - val_loss: -0.3267 - val_accuracy: 0.5056\n"
     ]
    },
    {
     "data": {
      "text/plain": [
       "<keras.callbacks.callbacks.History at 0x18264e490>"
      ]
     },
     "execution_count": 52,
     "metadata": {},
     "output_type": "execute_result"
    }
   ],
   "source": [
    "model.fit(xtrain,ytrain,epochs=3,batch_size=32,verbose=1,validation_data=(xtest,ytest))"
   ]
  },
  {
   "cell_type": "code",
   "execution_count": 53,
   "metadata": {},
   "outputs": [],
   "source": [
    "predict=model.predict(xtest)"
   ]
  },
  {
   "cell_type": "code",
   "execution_count": 54,
   "metadata": {},
   "outputs": [
    {
     "data": {
      "text/plain": [
       "(numpy.ndarray, numpy.ndarray, (2241, 1), (2241,))"
      ]
     },
     "execution_count": 54,
     "metadata": {},
     "output_type": "execute_result"
    }
   ],
   "source": [
    "type(predict),type(ytest),predict.shape,ytest.shape"
   ]
  },
  {
   "cell_type": "code",
   "execution_count": 55,
   "metadata": {},
   "outputs": [],
   "source": [
    "predict=predict.reshape(-1,)"
   ]
  },
  {
   "cell_type": "code",
   "execution_count": 56,
   "metadata": {},
   "outputs": [],
   "source": [
    "prediction=pd.DataFrame({'Actual':ytest,'Predicted':predict})"
   ]
  },
  {
   "cell_type": "code",
   "execution_count": 57,
   "metadata": {},
   "outputs": [
    {
     "data": {
      "text/html": [
       "<div>\n",
       "<style scoped>\n",
       "    .dataframe tbody tr th:only-of-type {\n",
       "        vertical-align: middle;\n",
       "    }\n",
       "\n",
       "    .dataframe tbody tr th {\n",
       "        vertical-align: top;\n",
       "    }\n",
       "\n",
       "    .dataframe thead th {\n",
       "        text-align: right;\n",
       "    }\n",
       "</style>\n",
       "<table border=\"1\" class=\"dataframe\">\n",
       "  <thead>\n",
       "    <tr style=\"text-align: right;\">\n",
       "      <th></th>\n",
       "      <th>Actual</th>\n",
       "      <th>Predicted</th>\n",
       "    </tr>\n",
       "  </thead>\n",
       "  <tbody>\n",
       "    <tr>\n",
       "      <th>121</th>\n",
       "      <td>2</td>\n",
       "      <td>0.901409</td>\n",
       "    </tr>\n",
       "    <tr>\n",
       "      <th>1418</th>\n",
       "      <td>1</td>\n",
       "      <td>0.901409</td>\n",
       "    </tr>\n",
       "    <tr>\n",
       "      <th>2120</th>\n",
       "      <td>2</td>\n",
       "      <td>0.901409</td>\n",
       "    </tr>\n",
       "    <tr>\n",
       "      <th>1989</th>\n",
       "      <td>1</td>\n",
       "      <td>0.901409</td>\n",
       "    </tr>\n",
       "    <tr>\n",
       "      <th>822</th>\n",
       "      <td>1</td>\n",
       "      <td>0.901409</td>\n",
       "    </tr>\n",
       "  </tbody>\n",
       "</table>\n",
       "</div>"
      ],
      "text/plain": [
       "      Actual  Predicted\n",
       "121        2   0.901409\n",
       "1418       1   0.901409\n",
       "2120       2   0.901409\n",
       "1989       1   0.901409\n",
       "822        1   0.901409"
      ]
     },
     "execution_count": 57,
     "metadata": {},
     "output_type": "execute_result"
    }
   ],
   "source": [
    "prediction.sample(5)"
   ]
  },
  {
   "cell_type": "code",
   "execution_count": 58,
   "metadata": {},
   "outputs": [
    {
     "data": {
      "text/plain": [
       "<matplotlib.axes._subplots.AxesSubplot at 0x18310fad0>"
      ]
     },
     "execution_count": 58,
     "metadata": {},
     "output_type": "execute_result"
    },
    {
     "data": {
      "image/png": "[encoded data removed]",
      "text/plain": [
       "<Figure size 432x288 with 1 Axes>"
      ]
     },
     "metadata": {
      "needs_background": "light"
     },
     "output_type": "display_data"
    }
   ],
   "source": [
    "import seaborn as sns\n",
    "sns.scatterplot('Predicted','Actual',data=prediction)"
   ]
  },
  {
   "cell_type": "code",
   "execution_count": null,
   "metadata": {},
   "outputs": [],
   "source": []
  }
 ],
 "metadata": {
  "kernelspec": {
   "display_name": "Python 3",
   "language": "python",
   "name": "python3"
  },
  "language_info": {
   "codemirror_mode": {
    "name": "ipython",
    "version": 3
   },
   "file_extension": ".py",
   "mimetype": "text/x-python",
   "name": "python",
   "nbconvert_exporter": "python",
   "pygments_lexer": "ipython3",
   "version": "3.7.4"
  }
 },
 "nbformat": 4,
 "nbformat_minor": 4
}
